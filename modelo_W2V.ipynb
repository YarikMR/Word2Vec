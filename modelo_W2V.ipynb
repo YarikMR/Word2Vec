{
 "cells": [
  {
   "cell_type": "markdown",
   "metadata": {},
   "source": [
    "# Crear un modelo de Word2Vec\n",
    "\n",
    "Este ejemplo esta disponible con extencion \n",
    "- __.py__ para ser cargado desde cualquier IDE (Pychar, Spyder, etc) \n",
    "- __.ipynb__ para notebook\n",
    "\n",
    "Requerimientos:\n",
    "- NLTK: Installar ejecutar el comando __pip install nltk__\n",
    "- Gensim: Instalar con __pip install gensim__"
   ]
  },
  {
   "cell_type": "code",
   "execution_count": 2,
   "metadata": {},
   "outputs": [],
   "source": [
    "import nltk\n",
    "import gensim"
   ]
  },
  {
   "cell_type": "code",
   "execution_count": 2,
   "metadata": {},
   "outputs": [],
   "source": [
    "#Descomenta las dos siguientes lineas si no tienes instalado nltk y/o gensim\n",
    "#! pip install nltk \n",
    "#! pip install gensim"
   ]
  },
  {
   "cell_type": "markdown",
   "metadata": {},
   "source": [
    "# Leer Corpus"
   ]
  },
  {
   "cell_type": "code",
   "execution_count": 3,
   "metadata": {},
   "outputs": [],
   "source": [
    "with open ('data/reglamento_transito.txt',\n",
    "           'r',encoding='utf-8') as file:\n",
    "        document = file.read()"
   ]
  },
  {
   "cell_type": "code",
   "execution_count": 4,
   "metadata": {},
   "outputs": [
    {
     "data": {
      "text/plain": [
       "'REGLAMENTO DE TRÁNSITO DEL MUNICIPIO SOLIDARIDAD, QUINTANA ROO \\n\\n(Reforma publicada en el Periódico Oficial del Gobierno del Estado el 30 de agosto de 2006) \\n\\n\\n(Periódico Oficial del Estado del 16 de enerode 2012: Se Reforman los artículos 112; 185, Fracciones III y VIII, \\n\\ny se le Adiciona un segundo párrafo; Se adiciona un Inciso e) al Artículo 202) \\n\\n(Reforma publicada en el Periódico Oficial del Estado el 31 de marzode 2015) \\n\\nReforma: Se adiciona una fracción LXIX al artículo 2 y se modifican las fracciones I \\na VIII del artículo 185; Publicado en el Periódico Oficial del Estado de Quintana Roo el 17 \\nde febrero del año 201 7. \\n\\nÚltim a reforma: al párrafo primero y se adiciona un párrafo tercero del artículo 53 ; \\n\\nPublicado en el Periódico Oficial del Estado de Quintana Roo el 7 de abril del año 201 7. \\n\\n\\nCAPÍTULO I \\n\\nDISPOSICIONES GENERALES \\n\\nArtículo 1.- El presente Reglamento es de orden público y de interés social y tiene por objeto \\nestablecer las normas del transporte de p'"
      ]
     },
     "execution_count": 4,
     "metadata": {},
     "output_type": "execute_result"
    }
   ],
   "source": [
    "document[:1000]"
   ]
  },
  {
   "cell_type": "code",
   "execution_count": 6,
   "metadata": {},
   "outputs": [
    {
     "data": {
      "text/plain": [
       "'Últim a reforma: al párrafo primero y se adiciona un párrafo tercero del artículo 53 ; \\n\\nPublicado en el Periódico Oficial del Estado de Quintana Roo el 7 de abril del año 201 7.'"
      ]
     },
     "execution_count": 6,
     "metadata": {},
     "output_type": "execute_result"
    }
   ],
   "source": [
    "# tokenizar el documento en oraciones\n",
    "sentences = nltk.sent_tokenize(document)\n",
    "sentences[1]"
   ]
  },
  {
   "cell_type": "code",
   "execution_count": 7,
   "metadata": {},
   "outputs": [],
   "source": [
    "#tokenizar cada oracion en palbras\n",
    "word_tokens = [nltk.tokenize.word_tokenize(sentence.lower()) for sentence in sentences]"
   ]
  },
  {
   "cell_type": "code",
   "execution_count": 9,
   "metadata": {},
   "outputs": [],
   "source": [
    "#word_tokens[1]"
   ]
  },
  {
   "cell_type": "markdown",
   "metadata": {},
   "source": [
    "# Modelo de W2V"
   ]
  },
  {
   "cell_type": "code",
   "execution_count": 10,
   "metadata": {},
   "outputs": [],
   "source": [
    "modelo_w2v = gensim.models.Word2Vec(sentences = word_tokens,\n",
    "                                    size = 50,\n",
    "                                    iter=100,\n",
    "                                    min_count=1)"
   ]
  },
  {
   "cell_type": "code",
   "execution_count": 12,
   "metadata": {},
   "outputs": [
    {
     "name": "stderr",
     "output_type": "stream",
     "text": [
      "/anaconda3/envs/curso36/lib/python3.6/site-packages/ipykernel_launcher.py:1: DeprecationWarning: Call to deprecated `most_similar` (Method will be removed in 4.0.0, use self.wv.most_similar() instead).\n",
      "  \"\"\"Entry point for launching an IPython kernel.\n"
     ]
    },
    {
     "data": {
      "text/plain": [
       "[('automóvil', 0.9729188084602356),\n",
       " ('coche.-', 0.9714019298553467),\n",
       " ('ómnibus', 0.8502559065818787),\n",
       " ('motocicleta.-', 0.8487198948860168),\n",
       " ('tracto-camión.-', 0.8475431203842163),\n",
       " ('aliento', 0.8473482131958008),\n",
       " ('l.-', 0.8402494788169861),\n",
       " ('camioneta.-', 0.8338930010795593),\n",
       " ('xxxv.-', 0.8240362405776978),\n",
       " ('fabricado', 0.8169386386871338)]"
      ]
     },
     "execution_count": 12,
     "metadata": {},
     "output_type": "execute_result"
    }
   ],
   "source": [
    "modelo_w2v.most_similar('auto')"
   ]
  },
  {
   "cell_type": "code",
   "execution_count": 14,
   "metadata": {},
   "outputs": [
    {
     "name": "stderr",
     "output_type": "stream",
     "text": [
      "/anaconda3/envs/curso36/lib/python3.6/site-packages/ipykernel_launcher.py:1: DeprecationWarning: Call to deprecated `__getitem__` (Method will be removed in 4.0.0, use self.wv.__getitem__() instead).\n",
      "  \"\"\"Entry point for launching an IPython kernel.\n"
     ]
    },
    {
     "data": {
      "text/plain": [
       "50"
      ]
     },
     "execution_count": 14,
     "metadata": {},
     "output_type": "execute_result"
    }
   ],
   "source": [
    "modelo_w2v['auto']"
   ]
  },
  {
   "cell_type": "code",
   "execution_count": null,
   "metadata": {},
   "outputs": [],
   "source": []
  }
 ],
 "metadata": {
  "kernelspec": {
   "display_name": "Python 3",
   "language": "python",
   "name": "python3"
  },
  "language_info": {
   "codemirror_mode": {
    "name": "ipython",
    "version": 3
   },
   "file_extension": ".py",
   "mimetype": "text/x-python",
   "name": "python",
   "nbconvert_exporter": "python",
   "pygments_lexer": "ipython3",
   "version": "3.6.8"
  }
 },
 "nbformat": 4,
 "nbformat_minor": 2
}
